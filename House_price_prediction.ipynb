{
  "nbformat": 4,
  "nbformat_minor": 0,
  "metadata": {
    "colab": {
      "provenance": []
    },
    "kernelspec": {
      "name": "python3",
      "display_name": "Python 3"
    },
    "language_info": {
      "name": "python"
    }
  },
  "cells": [
    {
      "cell_type": "code",
      "source": [
        "from matplotlib import pyplot as plt\n",
        "import pandas as pd\n",
        "from sklearn.preprocessing import LabelEncoder\n",
        "from sklearn.model_selection import train_test_split\n",
        "from sklearn.ensemble import RandomForestRegressor\n",
        "from sklearn.metrics import r2_score\n",
        "import pickle as pkl\n",
        "import seaborn as sns\n",
        "import numpy as np\n",
        "\n",
        "rfc = RandomForestRegressor()\n",
        "\n",
        "data = pd.read_csv('train.csv')\n",
        "\n",
        "le = LabelEncoder()\n",
        "data['Location'] = le.fit_transform(data['Location'])\n",
        "data['Price'] = np.log(data['Price'])\n",
        "\n",
        "x = data.drop([\"id\",\"Price\", \"Lift Available\",'Clubhouse', \"Maintenance Staff\",\"24x7 Security\", \"Children's Play Area\", \"Intercom\",'Swimming Pool','Gas Connection', \"Landscaped Gardens\"], axis =1)\n",
        "y = data['Price']\n",
        "\n",
        "q1 = x['Area'].quantile(0.25)\n",
        "q3 = x['Area'].quantile(0.75)\n",
        "\n",
        "iqr = q3-q1\n",
        "\n",
        "u = q3 + 1.5*iqr\n",
        "l = q1 - 1.5*iqr\n",
        "\n",
        "out1 = x[x['Area'] < l].values\n",
        "out2 = x[x['Area'] > u].values\n",
        "\n",
        "x['Area'].replace(out1,l,inplace = True)\n",
        "x['Area'].replace(out2,u,inplace = True)\n",
        "\n",
        "# Price\n",
        "q1 = y.quantile(0.25)\n",
        "q3 = y.quantile(0.75)\n",
        "\n",
        "iqr = q3-q1\n",
        "\n",
        "u = q3 + 1.5*iqr\n",
        "l = q1 - 1.5*iqr\n",
        "\n",
        "out1 = y[y < l].values\n",
        "out2 = y[y > u].values\n",
        "\n",
        "y.replace(out1,l,inplace = True)\n",
        "y.replace(out2,u,inplace = True)\n",
        "\n",
        "\n",
        "x_train, x_test, y_train, y_test=train_test_split(x, y, random_state=0, train_size=0.3)\n",
        "\n",
        "rfc.fit(x_train,y_train)\n",
        "y_pred = rfc.predict(x_test)\n",
        "\n",
        "print(r2_score(y_test,y_pred))"
      ],
      "metadata": {
        "colab": {
          "base_uri": "https://localhost:8080/"
        },
        "id": "S3XqQSQ0Sgus",
        "outputId": "90302d0f-72c4-4a94-a395-3a491783347d"
      },
      "execution_count": null,
      "outputs": [
        {
          "output_type": "stream",
          "name": "stdout",
          "text": [
            "0.8233043409629884\n"
          ]
        }
      ]
    }
  ]
}